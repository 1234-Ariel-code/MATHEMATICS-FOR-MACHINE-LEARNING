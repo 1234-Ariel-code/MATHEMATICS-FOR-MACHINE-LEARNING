{
 "cells": [
  {
   "cell_type": "markdown",
   "metadata": {},
   "source": [
    "#### Compute the modulus of a vector "
   ]
  },
  {
   "cell_type": "code",
   "execution_count": 1,
   "metadata": {},
   "outputs": [],
   "source": [
    "def modulus(vector):\n",
    "    sum=0\n",
    "    for i in range(len(vector)):\n",
    "        sum= sum + vector[i]*vector[i]\n",
    "    sum=sum**0.5\n",
    "    return sum"
   ]
  },
  {
   "cell_type": "markdown",
   "metadata": {},
   "source": [
    "#### Test of modulus"
   ]
  },
  {
   "cell_type": "code",
   "execution_count": 5,
   "metadata": {},
   "outputs": [
    {
     "data": {
      "text/plain": [
       "2.0"
      ]
     },
     "execution_count": 5,
     "metadata": {},
     "output_type": "execute_result"
    }
   ],
   "source": [
    "vector = [0,2]\n",
    "modulus(vector)"
   ]
  },
  {
   "cell_type": "markdown",
   "metadata": {},
   "source": [
    "#### Function to add two vectors"
   ]
  },
  {
   "cell_type": "code",
   "execution_count": 43,
   "metadata": {},
   "outputs": [],
   "source": [
    "def add(vector1,vector2):\n",
    "    r=[]\n",
    "    if len(vector1) != len(vector2):\n",
    "        return print('That is not possible')\n",
    "    for i in range(len(vector1)):\n",
    "        r.append(vector1[i] + vector2[i])\n",
    "        \n",
    "    return r   "
   ]
  },
  {
   "cell_type": "markdown",
   "metadata": {},
   "source": [
    "#### Test of add"
   ]
  },
  {
   "cell_type": "code",
   "execution_count": 44,
   "metadata": {},
   "outputs": [
    {
     "data": {
      "text/plain": [
       "[3, 5]"
      ]
     },
     "execution_count": 44,
     "metadata": {},
     "output_type": "execute_result"
    }
   ],
   "source": [
    "vector1=[1,2]\n",
    "vector2=[2,3]\n",
    "add(vector1,vector2)"
   ]
  },
  {
   "cell_type": "markdown",
   "metadata": {},
   "source": [
    "#### Function to sub two vectors"
   ]
  },
  {
   "cell_type": "code",
   "execution_count": 45,
   "metadata": {},
   "outputs": [],
   "source": [
    "def sub(vector1,vector2):\n",
    "    r=[]\n",
    "    if len(vector1) != len(vector2):\n",
    "        return print('That is not possible')\n",
    "    for i in range(len(vector1)):\n",
    "        r.append(vector1[i] - vector2[i])\n",
    "        \n",
    "    return r "
   ]
  },
  {
   "cell_type": "markdown",
   "metadata": {},
   "source": [
    "#### Test of sub"
   ]
  },
  {
   "cell_type": "code",
   "execution_count": 46,
   "metadata": {},
   "outputs": [
    {
     "data": {
      "text/plain": [
       "[-1, -1]"
      ]
     },
     "execution_count": 46,
     "metadata": {},
     "output_type": "execute_result"
    }
   ],
   "source": [
    "vector1=[1,2]\n",
    "vector2=[2,3]\n",
    "sub(vector1,vector2)"
   ]
  },
  {
   "cell_type": "markdown",
   "metadata": {},
   "source": [
    "#### Function of multiply vectors"
   ]
  },
  {
   "cell_type": "code",
   "execution_count": null,
   "metadata": {},
   "outputs": [],
   "source": [
    "def multiply(vector1,vector2):\n",
    "    "
   ]
  },
  {
   "cell_type": "code",
   "execution_count": null,
   "metadata": {},
   "outputs": [],
   "source": []
  },
  {
   "cell_type": "code",
   "execution_count": null,
   "metadata": {},
   "outputs": [],
   "source": []
  },
  {
   "cell_type": "code",
   "execution_count": 1,
   "metadata": {},
   "outputs": [],
   "source": [
    "import math\n",
    "\n",
    "\"\"\"\n",
    "    This exercisises is used to test understanding of Vectors. YOU are NOT to use any Numpy\n",
    "    implementation for this exercises. \n",
    "\"\"\"\n",
    "\n",
    "class Vector(object):\n",
    "    \"\"\"\n",
    "        This class represents a vector of arbitrary size.\n",
    "        You need to give the vector components. \n",
    "    \"\"\"\n",
    "\n",
    "    def __init__(self, components=None):\n",
    "        \"\"\"\n",
    "            input: components or nothing\n",
    "            simple constructor for init the vector\n",
    "        \"\"\"\n",
    "        if components is None:\n",
    "            components = []\n",
    "        self.__components = list(components)\n",
    "\n",
    "\n",
    "    def component(self, i):\n",
    "        \"\"\"\n",
    "            input: index (start at 0)\n",
    "            output: the i-th component of the vector.\n",
    "        \"\"\"\n",
    "        if type(i) is int and -len(self.__components) <= i < len(self.__components):\n",
    "            return self.__components[i]\n",
    "        else:\n",
    "            raise Exception(\"index out of range\")\n",
    "\n",
    "    def __len__(self):\n",
    "        \"\"\"\n",
    "            returns the size of the vector\n",
    "        \"\"\"\n",
    "       \n",
    "        return len(self.__components)\n",
    "\n",
    "    def modulus(self):\n",
    "        \"\"\"\n",
    "            returns the euclidean length of the vector\n",
    "        \"\"\"\n",
    "        summe = 0\n",
    "        ## BEGIN SOLUTION\n",
    "        \n",
    "        for i in range(len(self)):\n",
    "            summe = summe + self.component(i)*self.component(i) \n",
    "        summe = summe**0.5    \n",
    "        return summe ## EDIT THIS\n",
    "    \n",
    "        ## END SOLUTION\n",
    "\n",
    "    def add(self, other):\n",
    "        \"\"\"\n",
    "            input: other vector\n",
    "            assumes: other vector has the same size\n",
    "            returns a new vector that represents the sum.\n",
    "        \"\"\"\n",
    "        r=[]\n",
    "        size = len(self)\n",
    "        if size == len(other):\n",
    "            ## BEGIN SOUTION\n",
    "            \n",
    "            for i in range(len(self)):\n",
    "                r.append(self.component(i) + other.__components[i])\n",
    "            return r ## EDIT THIS\n",
    "        \n",
    "            ## END SOLUTION\n",
    "        else:\n",
    "            raise Exception(\"must have the same size\")\n",
    "\n",
    "    def sub(self, other):\n",
    "        \"\"\"\n",
    "            input: other vector\n",
    "            assumes: other vector has the same size\n",
    "            returns a new vector that represents the difference.\n",
    "        \"\"\"\n",
    "        r=[]\n",
    "        size = len(self)\n",
    "        if size == len(other):\n",
    "            ## BEGIN SOUTION\n",
    "            \n",
    "            for i in range(len(self)):\n",
    "                r.append(self.component(i) - other.__components[i])\n",
    "            return r  ## EDIT THIS\n",
    "              \n",
    "            ## END SOLUTION\n",
    "        else:  # error case\n",
    "            raise Exception(\"must have the same size\")\n",
    "\n",
    "    def multiply(self, other):\n",
    "        \"\"\"\n",
    "            multiply implements the scalar multiplication \n",
    "            and the dot-product\n",
    "        \"\"\"\n",
    "        r=[]\n",
    "        if isinstance(other, float) or isinstance(other, int): #scalar multiplicatioj\n",
    "            ## BEGIN SOLUTION\n",
    "            for i in range(len(self)):\n",
    "                  r.append(self.component(i)*other)\n",
    "            return r ## EDIT THIS\n",
    "        \n",
    "            ## END SOLUTION\n",
    "        elif isinstance(other, Vector) and (len(self) == len(other)): # dot product\n",
    "            size = len(self)\n",
    "            summe = 0\n",
    "            ## BEGIN SOLUTION\n",
    "            \n",
    "            for i in range(size):\n",
    "                summe = summe + self.component(i)*other.__components[i]\n",
    "            return summe\n",
    "        \n",
    "            ## END SOLUTION\n",
    "        else:  # error case\n",
    "            raise Exception(\"invalid operand!\")\n",
    "\n",
    "    \n",
    "    def scalar_proj(self, other):\n",
    "        \"\"\" \n",
    "            Computes the scalar projection of vector r on s.\n",
    "        \"\"\"\n",
    "\n",
    "        ### BEGIN SOLUTION\n",
    "             \n",
    "        p = self.multiply(other)\n",
    "        d = p*self.modulus()**(-1)\n",
    "            \n",
    "        return d ## EDIT THIS\n",
    "        ### END SOLUTION\n",
    "        \n",
    "    def vector_proj(self, other):\n",
    "        \"\"\" \n",
    "            Computes the vector projection of vector r on s.\n",
    "            use the other functions created above.\n",
    "        \"\"\"\n",
    "        d=[]\n",
    "        ### BEGIN SOLUTION\n",
    "        \n",
    "        p1=self.scalar_proj(other)/self.modulus()\n",
    "        for i in range(len(self)): \n",
    "            d.append(p1*self.component(i))\n",
    "        \n",
    "        return d ## EDIT THIS\n",
    "        ### END SOLUTION"
   ]
  },
  {
   "cell_type": "code",
   "execution_count": 118,
   "metadata": {},
   "outputs": [],
   "source": [
    "result= Vector([1,2])"
   ]
  },
  {
   "cell_type": "code",
   "execution_count": 119,
   "metadata": {},
   "outputs": [
    {
     "data": {
      "text/plain": [
       "<__main__.Vector at 0x7ffa546a3b70>"
      ]
     },
     "execution_count": 119,
     "metadata": {},
     "output_type": "execute_result"
    }
   ],
   "source": [
    "result"
   ]
  },
  {
   "cell_type": "code",
   "execution_count": 120,
   "metadata": {},
   "outputs": [
    {
     "data": {
      "text/plain": [
       "2.23606797749979"
      ]
     },
     "execution_count": 120,
     "metadata": {},
     "output_type": "execute_result"
    }
   ],
   "source": [
    "result.modulus()"
   ]
  },
  {
   "cell_type": "code",
   "execution_count": 122,
   "metadata": {},
   "outputs": [
    {
     "data": {
      "text/plain": [
       "[3, 5]"
      ]
     },
     "execution_count": 122,
     "metadata": {},
     "output_type": "execute_result"
    }
   ],
   "source": [
    "result.add(Vector([2,3]))"
   ]
  },
  {
   "cell_type": "code",
   "execution_count": 123,
   "metadata": {},
   "outputs": [
    {
     "data": {
      "text/plain": [
       "[-1, -1]"
      ]
     },
     "execution_count": 123,
     "metadata": {},
     "output_type": "execute_result"
    }
   ],
   "source": [
    "result.sub(Vector([2,3]))"
   ]
  },
  {
   "cell_type": "code",
   "execution_count": 124,
   "metadata": {},
   "outputs": [
    {
     "data": {
      "text/plain": [
       "[3, 6]"
      ]
     },
     "execution_count": 124,
     "metadata": {},
     "output_type": "execute_result"
    }
   ],
   "source": [
    "result.multiply(3)"
   ]
  },
  {
   "cell_type": "code",
   "execution_count": 125,
   "metadata": {},
   "outputs": [
    {
     "data": {
      "text/plain": [
       "8"
      ]
     },
     "execution_count": 125,
     "metadata": {},
     "output_type": "execute_result"
    }
   ],
   "source": [
    "result.multiply(Vector([2,3]))"
   ]
  },
  {
   "cell_type": "code",
   "execution_count": 126,
   "metadata": {},
   "outputs": [
    {
     "data": {
      "text/plain": [
       "3.5777087639996634"
      ]
     },
     "execution_count": 126,
     "metadata": {},
     "output_type": "execute_result"
    }
   ],
   "source": [
    "result.scalar_proj(Vector([2,3]))"
   ]
  },
  {
   "cell_type": "code",
   "execution_count": 127,
   "metadata": {},
   "outputs": [
    {
     "data": {
      "text/plain": [
       "[1.5999999999999999, 3.1999999999999997]"
      ]
     },
     "execution_count": 127,
     "metadata": {},
     "output_type": "execute_result"
    }
   ],
   "source": [
    "result.vector_proj(Vector([2,3]))"
   ]
  },
  {
   "cell_type": "code",
   "execution_count": null,
   "metadata": {},
   "outputs": [],
   "source": []
  },
  {
   "cell_type": "code",
   "execution_count": 2,
   "metadata": {},
   "outputs": [
    {
     "name": "stderr",
     "output_type": "stream",
     "text": [
      "E\n",
      "======================================================================\n",
      "ERROR: /run/user/1000/jupyter/kernel-966dc95b-77b5-4562-8a5d-28a623a76ac0 (unittest.loader._FailedTest)\n",
      "----------------------------------------------------------------------\n",
      "AttributeError: module '__main__' has no attribute '/run/user/1000/jupyter/kernel-966dc95b-77b5-4562-8a5d-28a623a76ac0'\n",
      "\n",
      "----------------------------------------------------------------------\n",
      "Ran 1 test in 0.001s\n",
      "\n",
      "FAILED (errors=1)\n"
     ]
    },
    {
     "ename": "SystemExit",
     "evalue": "True",
     "output_type": "error",
     "traceback": [
      "An exception has occurred, use %tb to see the full traceback.\n",
      "\u001b[0;31mSystemExit\u001b[0m\u001b[0;31m:\u001b[0m True\n"
     ]
    },
    {
     "name": "stderr",
     "output_type": "stream",
     "text": [
      "/usr/lib/python3/dist-packages/IPython/core/interactiveshell.py:2886: UserWarning: To exit: use 'exit', 'quit', or Ctrl-D.\n",
      "  warn(\"To exit: use 'exit', 'quit', or Ctrl-D.\", stacklevel=1)\n"
     ]
    }
   ],
   "source": [
    "import unittest\n",
    "\n",
    "class Test(unittest.TestCase):\n",
    "    def test_component(self):\n",
    "        \"\"\"\n",
    "            test for method component\n",
    "        \"\"\"\n",
    "        x = Vector([1, 2, 3])\n",
    "        self.assertEqual(x.component(0), 1)\n",
    "        self.assertEqual(x.component(2), 3)\n",
    "        try:\n",
    "            y = Vector()\n",
    "            self.assertTrue(False)\n",
    "        except:\n",
    "            self.assertTrue(True)\n",
    "\n",
    "\n",
    "    def test_size(self):\n",
    "        \"\"\"\n",
    "            test for size()-method\n",
    "        \"\"\"\n",
    "        x = Vector([1, 2, 3, 4])\n",
    "        self.assertEqual(len(x), 4)\n",
    "\n",
    "    def test_modulus(self):\n",
    "        \"\"\"\n",
    "            test for the eulidean length\n",
    "        \"\"\"\n",
    "        x = Vector([1, 2])\n",
    "        self.assertAlmostEqual(x.modulus(), 2.236, 3)\n",
    "\n",
    "    def test_add(self):\n",
    "        \"\"\"\n",
    "            test for + operator\n",
    "        \"\"\"\n",
    "        x = Vector([1, 2, 3])\n",
    "        y = Vector([1, 1, 1])\n",
    "        self.assertEqual((x.add(y)).component(0), 2)\n",
    "        self.assertEqual((x.add(y)).component(1), 3)\n",
    "        self.assertEqual((x.add(y)).component(2), 4)\n",
    "\n",
    "    def test_sub(self):\n",
    "        \"\"\"\n",
    "            test for - operator\n",
    "        \"\"\"\n",
    "        x = Vector([1, 2, 3])\n",
    "        y = Vector([1, 1, 1])\n",
    "        self.assertEqual((x.sub(y)).component(0), 0)\n",
    "        self.assertEqual((x.sub(y)).component(1), 1)\n",
    "        self.assertEqual((x.sub(y)).component(2), 2)\n",
    "\n",
    "    def test_multiply(self):\n",
    "        \"\"\"\n",
    "            test for vector multiplication\n",
    "        \"\"\"\n",
    "        x = Vector([1, 2, 3])\n",
    "        a = Vector([2, -1, 4])  # for test of dot-product\n",
    "        b = Vector([1, -2, -1])\n",
    "        self.assertEqual((x.multiply(3.0)).component(0),3 )\n",
    "        self.assertEqual((a.multiply(b)), 0)\n",
    "\n",
    "    def test_scalar_projection(self):\n",
    "        \"\"\"\n",
    "            test for scalar projection\n",
    "        \"\"\"\n",
    "        x = Vector([3, 4])\n",
    "        y = Vector([4, 3])\n",
    "        self.assertEqual(x.scalar_proj(y), 4.8)\n",
    "        \n",
    "    def test_vector_projection(self):\n",
    "        \"\"\"\n",
    "            test for scalar projection\n",
    "        \"\"\"\n",
    "        x = Vector([3, 4])\n",
    "        y = Vector([4, 3])\n",
    "        self.assertEqual((x.vector_proj(y)).component(1), 3.84)\n",
    "        \n",
    "        \n",
    "\n",
    "if __name__ == \"__main__\":\n",
    "    unittest.main()\n"
   ]
  },
  {
   "cell_type": "code",
   "execution_count": null,
   "metadata": {},
   "outputs": [],
   "source": []
  }
 ],
 "metadata": {
  "kernelspec": {
   "display_name": "Python 3",
   "language": "python",
   "name": "python3"
  },
  "language_info": {
   "codemirror_mode": {
    "name": "ipython",
    "version": 3
   },
   "file_extension": ".py",
   "mimetype": "text/x-python",
   "name": "python",
   "nbconvert_exporter": "python",
   "pygments_lexer": "ipython3",
   "version": "3.7.3"
  }
 },
 "nbformat": 4,
 "nbformat_minor": 2
}
